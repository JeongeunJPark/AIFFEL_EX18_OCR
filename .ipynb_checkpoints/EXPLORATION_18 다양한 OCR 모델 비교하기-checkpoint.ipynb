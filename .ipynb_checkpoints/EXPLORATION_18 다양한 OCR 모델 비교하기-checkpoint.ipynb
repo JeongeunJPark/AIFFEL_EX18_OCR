{
 "cells": [
  {
   "cell_type": "markdown",
   "metadata": {},
   "source": [
    "## 이 노드의 루브릭"
   ]
  },
  {
   "cell_type": "markdown",
   "metadata": {},
   "source": [
    "#### 1. OCR을 활용하여 구현하려는 서비스의 기획이 타당한가?       \n",
    ": 목표로 하는 서비스가 OCR을 적용 가능하며, OCR을 활용했을 때 더욱 유용해진다.\n",
    "\n",
    "\n",
    "#### 2. 모델 평가 기준이 명확하고 체계적으로 세워졌는가?      \n",
    ": 평가 기준에 부합하는 테스트 데이터의 특징이 무엇인지 명확하게 제시되었다.\n",
    "\n",
    "#### 3. 평가 기준에 따라 충분한 분량의 테스트가 진행되고 그 결과가 잘 정리되었는가       \n",
    ": 최대 20장 까지의 테스트 이미지를 사용해 제시된 평가 기준에 따른 테스트 결과가 잘 정리되어 결론이 도출되었다."
   ]
  },
  {
   "cell_type": "markdown",
   "metadata": {},
   "source": [
    "## 목차"
   ]
  },
  {
   "cell_type": "markdown",
   "metadata": {},
   "source": [
    "#### 1. 검증용 데이터셋 준비                 \n",
    "- 텍스트의 모양과 크기, 배치, 노이즈 등 OCR의 성능에 영향을 미치는 요인들 설명          \n",
    "- 문자를 정확하게 detect하고 recognize하는지를 검증하기 위한 이미지 데이터셋 모음(항목별로 고루, 20장)\n",
    "\n",
    "#### 2. Google OCR API, keras-ocr, Tesseract로 테스트 진행\n",
    "\n",
    "\n",
    "#### 3. 테스트 결과 정리          \n",
    "- 시각화와 함께 한 테스트 결과 정리\n",
    "\n",
    "\n",
    "#### 4. 결과 분석과 결론 제시            \n",
    "- OCR을 통해 구현하고자 하는 서비스의 목적과 내용 정리           \n",
    "- 검토한 OCR 모델들이 서비스의 목적에 부합하는지 확인하기 위한 평가 기준을 제시            \n",
    "- 3의 테스트 결과와 4의 결과 분석을 고려하여, 가장 나은 대안의 모델을 선정하여 제안"
   ]
  },
  {
   "cell_type": "code",
   "execution_count": null,
   "metadata": {},
   "outputs": [],
   "source": []
  }
 ],
 "metadata": {
  "kernelspec": {
   "display_name": "aiffel",
   "language": "python",
   "name": "aiffel"
  },
  "language_info": {
   "codemirror_mode": {
    "name": "ipython",
    "version": 3
   },
   "file_extension": ".py",
   "mimetype": "text/x-python",
   "name": "python",
   "nbconvert_exporter": "python",
   "pygments_lexer": "ipython3",
   "version": "3.7.9"
  }
 },
 "nbformat": 4,
 "nbformat_minor": 4
}
